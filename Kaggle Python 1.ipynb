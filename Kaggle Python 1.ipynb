{
 "cells": [
  {
   "cell_type": "markdown",
   "metadata": {},
   "source": [
    "## First Attempt"
   ]
  },
  {
   "cell_type": "code",
   "execution_count": 1,
   "metadata": {
    "collapsed": false
   },
   "outputs": [],
   "source": [
    "# The first thing to do is to import the relevant packages\n",
    "# that I will need for my script, \n",
    "# these include the Numpy (for maths and arrays)\n",
    "# and csv for reading and writing csv files\n",
    "# If i want to use something from this I need to call \n",
    "# csv.[function] or np.[function] first\n",
    "\n",
    "import csv as csv \n",
    "import numpy as np\n",
    "\n",
    "# Open up the csv file in to a Python object\n",
    "csv_file_object = csv.reader(open('train.csv', 'rt')) \n",
    "header = next(csv_file_object)  # The next() command just skips the \n",
    "                                 # first line which is a header\n",
    "data=[]                          # Create a variable called 'data'.\n",
    "for row in csv_file_object:      # Run through each row in the csv file,\n",
    "    data.append(row)             # adding each row to the data variable\n",
    "data = np.array(data)         # Then convert from a list to an array\n",
    "\t\t\t         # Be aware that each item is currently\n",
    "                                 # a string in this format"
   ]
  },
  {
   "cell_type": "code",
   "execution_count": 2,
   "metadata": {
    "collapsed": false
   },
   "outputs": [
    {
     "name": "stdout",
     "output_type": "stream",
     "text": [
      "[['1' '0' '3' ..., '7.25' '' 'S']\n",
      " ['2' '1' '1' ..., '71.2833' 'C85' 'C']\n",
      " ['3' '1' '3' ..., '7.925' '' 'S']\n",
      " ..., \n",
      " ['889' '0' '3' ..., '23.45' '' 'S']\n",
      " ['890' '1' '1' ..., '30' 'C148' 'C']\n",
      " ['891' '0' '3' ..., '7.75' '' 'Q']]\n"
     ]
    }
   ],
   "source": [
    "print(data)"
   ]
  },
  {
   "cell_type": "code",
   "execution_count": 3,
   "metadata": {
    "collapsed": false
   },
   "outputs": [
    {
     "name": "stdout",
     "output_type": "stream",
     "text": [
      "['1' '0' '3' 'Braund, Mr. Owen Harris' 'male' '22' '1' '0' 'A/5 21171'\n",
      " '7.25' '' 'S']\n"
     ]
    }
   ],
   "source": [
    "print(data[0])"
   ]
  },
  {
   "cell_type": "code",
   "execution_count": 4,
   "metadata": {
    "collapsed": false
   },
   "outputs": [
    {
     "name": "stdout",
     "output_type": "stream",
     "text": [
      "['891' '0' '3' 'Dooley, Mr. Patrick' 'male' '32' '0' '0' '370376' '7.75' ''\n",
      " 'Q']\n"
     ]
    }
   ],
   "source": [
    "print(data[-1])"
   ]
  },
  {
   "cell_type": "code",
   "execution_count": 5,
   "metadata": {
    "collapsed": false
   },
   "outputs": [
    {
     "name": "stdout",
     "output_type": "stream",
     "text": [
      "Braund, Mr. Owen Harris\n"
     ]
    }
   ],
   "source": [
    "print(data[0,3])"
   ]
  },
  {
   "cell_type": "code",
   "execution_count": 6,
   "metadata": {
    "collapsed": true
   },
   "outputs": [],
   "source": [
    "# The size() function counts how many elements are in\n",
    "# in the array and sum() (as you would expects) sums up\n",
    "# the elements in the array.\n",
    "\n",
    "number_passengers = np.size(data[0::,1].astype(np.float))\n",
    "number_survived = np.sum(data[0::,1].astype(np.float))\n",
    "proportion_survivors = number_survived / number_passengers"
   ]
  },
  {
   "cell_type": "code",
   "execution_count": 7,
   "metadata": {
    "collapsed": true
   },
   "outputs": [],
   "source": [
    "women_only_stats = data[0::,4] == \"female\" # This finds where all \n",
    "                                           # the elements in the gender\n",
    "                                           # column that equals “female”\n",
    "men_only_stats = data[0::,4] != \"female\"   # This finds where all the \n",
    "                                           # elements do not equal \n",
    "                                           # female (i.e. male)"
   ]
  },
  {
   "cell_type": "code",
   "execution_count": 8,
   "metadata": {
    "collapsed": false
   },
   "outputs": [
    {
     "name": "stdout",
     "output_type": "stream",
     "text": [
      "Proportion of women who survived is 0.742038216561\n",
      "Proportion of men who survived is 0.188908145581\n"
     ]
    }
   ],
   "source": [
    "\n",
    "\n",
    "# Using the index from above we select the females and males separately\n",
    "women_onboard = data[women_only_stats,1].astype(np.float)     \n",
    "men_onboard = data[men_only_stats,1].astype(np.float)\n",
    "\n",
    "# Then we finds the proportions of them that survived\n",
    "proportion_women_survived = \\\n",
    "                       np.sum(women_onboard) / np.size(women_onboard)  \n",
    "proportion_men_survived = \\\n",
    "                       np.sum(men_onboard) / np.size(men_onboard) \n",
    "\n",
    "# and then print it out\n",
    "print('Proportion of women who survived is %s' % proportion_women_survived)\n",
    "print('Proportion of men who survived is %s' % proportion_men_survived)"
   ]
  },
  {
   "cell_type": "code",
   "execution_count": 10,
   "metadata": {
    "collapsed": true
   },
   "outputs": [],
   "source": [
    "test_file = open('test.csv', 'rt')\n",
    "test_file_object = csv.reader(test_file)\n",
    "header = next(test_file_object)"
   ]
  },
  {
   "cell_type": "code",
   "execution_count": 12,
   "metadata": {
    "collapsed": true
   },
   "outputs": [],
   "source": [
    "prediction_file = open(\"genderbasedmodel.csv\", \"wt\")\n",
    "prediction_file_object = csv.writer(prediction_file)"
   ]
  },
  {
   "cell_type": "code",
   "execution_count": 13,
   "metadata": {
    "collapsed": false
   },
   "outputs": [],
   "source": [
    "prediction_file_object.writerow([\"PassengerId\", \"Survived\"])\n",
    "for row in test_file_object:       # For each row in test.csv\n",
    "    if row[3] == 'female':         # is it a female, if yes then                                       \n",
    "        prediction_file_object.writerow([row[0],'1'])    # predict 1\n",
    "    else:                              # or else if male,       \n",
    "        prediction_file_object.writerow([row[0],'0'])    # predict 0\n",
    "test_file.close()\n",
    "prediction_file.close()"
   ]
  },
  {
   "cell_type": "markdown",
   "metadata": {},
   "source": [
    "## Second Attempt"
   ]
  },
  {
   "cell_type": "code",
   "execution_count": 37,
   "metadata": {
    "collapsed": true
   },
   "outputs": [],
   "source": [
    "# So we add a ceiling\n",
    "fare_ceiling = 40\n",
    "# then modify the data in the Fare column to = 39, if it is greater or equal to the ceiling\n",
    "data[ data[0::,9].astype(np.float) >= fare_ceiling, 9 ] = fare_ceiling - 1.0\n",
    "\n",
    "fare_bracket_size = 10\n",
    "number_of_price_brackets = int(fare_ceiling / fare_bracket_size)\n",
    "\n",
    "# I know there were 1st, 2nd and 3rd classes on board\n",
    "number_of_classes = 3\n",
    "\n",
    "# But it's better practice to calculate this from the data directly\n",
    "# Take the length of an array of unique values in column index 2\n",
    "number_of_classes = len(np.unique(data[0::,2])) \n",
    "\n",
    "# Initialize the survival table with all zeros\n",
    "survival_table = np.zeros((2, number_of_classes, number_of_price_brackets))\n"
   ]
  },
  {
   "cell_type": "code",
   "execution_count": 45,
   "metadata": {
    "collapsed": false
   },
   "outputs": [
    {
     "name": "stderr",
     "output_type": "stream",
     "text": [
      "/Users/tiverson/.pyenv/versions/anaconda3-2.0.0/lib/python3.4/site-packages/numpy/core/_methods.py:59: RuntimeWarning: Mean of empty slice.\n",
      "  warnings.warn(\"Mean of empty slice.\", RuntimeWarning)\n",
      "/Users/tiverson/.pyenv/versions/anaconda3-2.0.0/lib/python3.4/site-packages/numpy/core/_methods.py:71: RuntimeWarning: invalid value encountered in double_scalars\n",
      "  ret = ret.dtype.type(ret / rcount)\n"
     ]
    }
   ],
   "source": [
    "female = (data[0::,4] == \"female\")\n",
    "for i in range(number_of_classes):       #loop through each class\n",
    "    for j in range(number_of_price_brackets):   #loop through each price bin\n",
    "        in_class = (data[0::,2].astype(np.float)== i+1)\n",
    "        gt_this_bin = (data[0:,9].astype(np.float) >= j*fare_bracket_size)\n",
    "        lt_last_bin = (data[0:,9].astype(np.float) < (j+1)*fare_bracket_size)\n",
    "        bin_bool = in_class & gt_this_bin & lt_last_bin\n",
    "        women_only_stats = data[female & bin_bool,1]\n",
    "        men_only_stats = data[np.logical_not(female) & bin_bool,1]\n",
    "        survival_table[0,i,j] = np.mean(women_only_stats.astype(np.float))\n",
    "        survival_table[1,i,j] = np.mean(men_only_stats.astype(np.float))"
   ]
  },
  {
   "cell_type": "code",
   "execution_count": 47,
   "metadata": {
    "collapsed": false
   },
   "outputs": [
    {
     "name": "stdout",
     "output_type": "stream",
     "text": [
      "[[[ 0.          0.          0.83333333  0.97727273]\n",
      "  [ 0.          0.91428571  0.9         1.        ]\n",
      "  [ 0.59375     0.58139535  0.33333333  0.125     ]]\n",
      "\n",
      " [[ 0.          0.          0.4         0.38372093]\n",
      "  [ 0.          0.15873016  0.16        0.21428571]\n",
      "  [ 0.11153846  0.23684211  0.125       0.24      ]]]\n"
     ]
    }
   ],
   "source": [
    "survival_table[ survival_table != survival_table ] = 0.\n",
    "print(survival_table)"
   ]
  },
  {
   "cell_type": "code",
   "execution_count": 49,
   "metadata": {
    "collapsed": false
   },
   "outputs": [
    {
     "name": "stdout",
     "output_type": "stream",
     "text": [
      "[[[ 0.  0.  1.  1.]\n",
      "  [ 0.  1.  1.  1.]\n",
      "  [ 1.  1.  0.  0.]]\n",
      "\n",
      " [[ 0.  0.  0.  0.]\n",
      "  [ 0.  0.  0.  0.]\n",
      "  [ 0.  0.  0.  0.]]]\n"
     ]
    }
   ],
   "source": [
    "survival_table[ survival_table < 0.5 ] = 0\n",
    "survival_table[ survival_table >= 0.5 ] = 1\n",
    "print(survival_table)"
   ]
  },
  {
   "cell_type": "code",
   "execution_count": 50,
   "metadata": {
    "collapsed": false
   },
   "outputs": [
    {
     "data": {
      "text/plain": [
       "22"
      ]
     },
     "execution_count": 50,
     "metadata": {},
     "output_type": "execute_result"
    }
   ],
   "source": [
    "test_file = open('test.csv', 'rt')\n",
    "test_file_object = csv.reader(test_file)\n",
    "header = next(test_file_object)\n",
    "predictions_file = open(\"genderclassmodel.csv\", \"wt\")\n",
    "p = csv.writer(predictions_file)\n",
    "p.writerow([\"PassengerId\", \"Survived\"])"
   ]
  },
  {
   "cell_type": "code",
   "execution_count": 51,
   "metadata": {
    "collapsed": true
   },
   "outputs": [],
   "source": [
    "for row in test_file_object:                 # We are going to loop\n",
    "                                              # through each passenger\n",
    "                                              # in the test set                     \n",
    "  for j in range(number_of_price_brackets):  # For each passenger we\n",
    "                                              # loop thro each price bin\n",
    "    try:                                      # Some passengers have no\n",
    "                                              # Fare data so try to make\n",
    "      row[8] = float(row[8])                  # a float\n",
    "    except:                                   # If fails: no data, so \n",
    "      bin_fare = 3 - float(row[1])            # bin the fare according Pclass\n",
    "      break                                   # Break from the loop\n",
    "    if row[8] > fare_ceiling:              # If there is data see if\n",
    "                                              # it is greater than fare\n",
    "                                              # ceiling we set earlier\n",
    "      bin_fare = number_of_price_brackets-1   # If so set to highest bin\n",
    "      break                                   # And then break loop\n",
    "    if row[8] >= j * fare_bracket_size\\\n",
    "       and row[8] < \\\n",
    "       (j+1) * fare_bracket_size:             # If passed these tests \n",
    "                                              # then loop through each bin \n",
    "      bin_fare = j                            # then assign index\n",
    "      break                             "
   ]
  },
  {
   "cell_type": "code",
   "execution_count": 52,
   "metadata": {
    "collapsed": false
   },
   "outputs": [
    {
     "ename": "IndentationError",
     "evalue": "unindent does not match any outer indentation level (<ipython-input-52-25144582af08>, line 3)",
     "output_type": "error",
     "traceback": [
      "\u001b[0;36m  File \u001b[0;32m\"<ipython-input-52-25144582af08>\"\u001b[0;36m, line \u001b[0;32m3\u001b[0m\n\u001b[0;31m    else:                                          #else if male\u001b[0m\n\u001b[0m                                                                ^\u001b[0m\n\u001b[0;31mIndentationError\u001b[0m\u001b[0;31m:\u001b[0m unindent does not match any outer indentation level\n"
     ]
    }
   ],
   "source": [
    "if row[3] == 'female':                             #If the passenger is female\n",
    "        p.writerow([row[0], \"%d\" % \\\n",
    "                   int(survival_table[0, float(row[1])-1, bin_fare])])\n",
    "    else:                                          #else if male\n",
    "        p.writerow([row[0], \"%d\" % \\\n",
    "                   int(survival_table[1, float(row[1])-1, bin_fare])])\n",
    "     \n",
    "# Close out the files.\n",
    "test_file.close() \n",
    "predictions_file.close()"
   ]
  },
  {
   "cell_type": "code",
   "execution_count": null,
   "metadata": {
    "collapsed": true
   },
   "outputs": [],
   "source": []
  }
 ],
 "metadata": {
  "kernelspec": {
   "display_name": "Python 3",
   "language": "python",
   "name": "python3"
  },
  "language_info": {
   "codemirror_mode": {
    "name": "ipython",
    "version": 3
   },
   "file_extension": ".py",
   "mimetype": "text/x-python",
   "name": "python",
   "nbconvert_exporter": "python",
   "pygments_lexer": "ipython3",
   "version": "3.4.2"
  }
 },
 "nbformat": 4,
 "nbformat_minor": 0
}
